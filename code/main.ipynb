{
 "cells": [
  {
   "cell_type": "code",
   "execution_count": 3,
   "metadata": {
    "_kg_hide-input": false
   },
   "outputs": [],
   "source": [
    "import os, numpy as np, pandas as pd, matplotlib.pyplot as plt\n",
    "\n",
    "dir = os.path.abspath(os.path.join(os.path.dirname('__file__'), '..'))"
   ]
  },
  {
   "cell_type": "code",
   "execution_count": 4,
   "metadata": {},
   "outputs": [],
   "source": [
    "train_data = pd.read_csv(dir+\"/source/train.csv\")\n",
    "test_data = pd.read_csv(dir+\"/source/test.csv\")\n",
    "#train_data.head()\n",
    "#test_data.head()"
   ]
  },
  {
   "cell_type": "code",
   "execution_count": 5,
   "metadata": {
    "scrolled": true
   },
   "outputs": [
    {
     "name": "stdout",
     "output_type": "stream",
     "text": [
      "People who survived (Male/Female): 109 : 233 = (19.0, 74.0) %\n",
      "People who died (Male/Female): 468 : 81 = (81.0, 26.0) %\n"
     ]
    }
   ],
   "source": [
    "women = train_data.loc[train_data.Sex == 'female'][\"Survived\"]\n",
    "men = train_data.loc[train_data.Sex == 'male'][\"Survived\"]\n",
    "\n",
    "rate_swomen = sum(women)/len(women)\n",
    "rate_smen = sum(men)/len(men)\n",
    "mf_sratio = round((rate_smen*100),0),round((rate_swomen*100),0)\n",
    "\n",
    "rate_dwomen = (len(women)-sum(women))/len(women)\n",
    "rate_dmen = (len(men)-sum(men))/len(men)\n",
    "mf_dratio = round((rate_dmen*100),0),round((rate_dwomen*100),0)\n",
    "\n",
    "print(\"People who survived (Male/Female):\", sum(men),\":\", sum(women),\"=\", mf_sratio, \"%\")\n",
    "print(\"People who died (Male/Female):\", (len(men)-sum(men)),\":\", (len(women)-sum(women)),\"=\", mf_dratio, \"%\")"
   ]
  },
  {
   "cell_type": "code",
   "execution_count": 6,
   "metadata": {
    "_kg_hide-output": false
   },
   "outputs": [
    {
     "name": "stdout",
     "output_type": "stream",
     "text": [
      "Your submission was successfully saved!\n"
     ]
    }
   ],
   "source": [
    "from sklearn.ensemble import RandomForestClassifier\n",
    "\n",
    "y = train_data[\"Survived\"]\n",
    "\n",
    "features = [\"Pclass\", \"Sex\", \"SibSp\", \"Parch\"]\n",
    "X = pd.get_dummies(train_data[features])\n",
    "X_test = pd.get_dummies(test_data[features])\n",
    "\n",
    "model = RandomForestClassifier(n_estimators=100, max_depth=5, random_state=10)\n",
    "model.fit(X, y)\n",
    "predictions = model.predict(X_test)\n",
    "\n",
    "output = pd.DataFrame({'PassengerId': test_data.PassengerId, 'Survived': predictions})\n",
    "output.to_csv(dir+'/results/submission.csv', index=False)\n",
    "print(\"Your submission was successfully saved!\")"
   ]
  },
  {
   "cell_type": "code",
   "execution_count": 7,
   "metadata": {},
   "outputs": [
    {
     "name": "stdout",
     "output_type": "stream",
     "text": [
      "100.0\n"
     ]
    }
   ],
   "source": [
    "gender_submission = pd.read_csv(dir+\"/source/gender_submission.csv\")\n",
    "submission_data = pd.read_csv(dir+\"/results/submission.csv\")\n",
    "#submission_data.head()\n",
    "\n",
    "gender_submission['Survived'] = submission_data['Survived']\n",
    "match = (submission_data['Survived'] == gender_submission['Survived'])\n",
    "\n",
    "accuracy = ((np.count_nonzero(match))/len(match))*100\n",
    "print(accuracy)"
   ]
  }
 ],
 "metadata": {
  "kernelspec": {
   "display_name": "Python 3",
   "language": "python",
   "name": "python3"
  },
  "language_info": {
   "codemirror_mode": {
    "name": "ipython",
    "version": 3
   },
   "file_extension": ".py",
   "mimetype": "text/x-python",
   "name": "python",
   "nbconvert_exporter": "python",
   "pygments_lexer": "ipython3",
   "version": "3.11.5"
  }
 },
 "nbformat": 4,
 "nbformat_minor": 4
}
